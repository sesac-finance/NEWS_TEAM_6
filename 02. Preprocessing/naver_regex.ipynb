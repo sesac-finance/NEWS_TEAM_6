{
 "cells": [
  {
   "cell_type": "code",
   "execution_count": null,
   "metadata": {},
   "outputs": [],
   "source": [
    "import pandas as pd\n",
    "\n",
    "data = pd.read_csv('./news_recommand.csv')"
   ]
  },
  {
   "cell_type": "code",
   "execution_count": null,
   "metadata": {},
   "outputs": [],
   "source": [
    "data.head()"
   ]
  },
  {
   "cell_type": "code",
   "execution_count": null,
   "metadata": {},
   "outputs": [],
   "source": [
    "data['작업중'] = ''\n",
    "for idx in data.index:\n",
    "        content = data.loc[idx, 'content']\n",
    "        content = re.sub('[^0-9a-zA-Zㄱ-ㅎ가-힣,. ]', '', content)\n",
    "        content = re.sub('\\[이[^)]*\\자]', '', content)\n",
    "        content = re.sub('\\(서[^)]*\\)\\D*자\\s=', '', content)\n",
    "        content = re.sub('\\[파[^)]*\\스]', '', content)\n",
    "        content = re.sub('\\[서[^)]*\\제]', '', content)\n",
    "        content = re.sub('\\[서[^)]*\\스]', '', content)"
   ]
  },
  {
   "cell_type": "code",
   "execution_count": null,
   "metadata": {},
   "outputs": [],
   "source": []
  }
 ],
 "metadata": {
  "kernelspec": {
   "display_name": "Python 3.10.4 ('study')",
   "language": "python",
   "name": "python3"
  },
  "language_info": {
   "name": "python",
   "version": "3.10.4"
  },
  "orig_nbformat": 4,
  "vscode": {
   "interpreter": {
    "hash": "500bf716d4582d2b7fe152d2169727842527ef19e458748a73cdc19665516caa"
   }
  }
 },
 "nbformat": 4,
 "nbformat_minor": 2
}
