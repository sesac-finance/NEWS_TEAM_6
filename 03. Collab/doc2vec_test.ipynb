{
 "cells": [
  {
   "cell_type": "code",
   "execution_count": 1,
   "metadata": {},
   "outputs": [],
   "source": [
    "import pandas as pd\n",
    "import numpy as np\n",
    "import matplotlib.pyplot as plt\n",
    "import random\n",
    "from sklearn.manifold import TSNE\n",
    "from gensim.test.utils import common_texts\n",
    "from gensim.models.doc2vec import Doc2Vec, TaggedDocument\n",
    "from sklearn.metrics.pairwise import cosine_similarity"
   ]
  },
  {
   "cell_type": "code",
   "execution_count": 2,
   "metadata": {},
   "outputs": [],
   "source": [
    "import pymysql\n",
    "\n",
    "conn = pymysql.connect(host='localhost', user='root', password='ehfkwl1!', db='newsdb', charset='utf8')\n",
    "cursor = conn.cursor(pymysql.cursors.DictCursor)"
   ]
  },
  {
   "cell_type": "code",
   "execution_count": 3,
   "metadata": {},
   "outputs": [],
   "source": [
    "\n",
    "sql = \"SELECT * FROM `tb_news`;\" #테이블명 적기\n",
    "cursor.execute(sql)\n",
    "result = cursor.fetchall()\n",
    "\n",
    "#print(result)하면 무한 돌아감\n"
   ]
  },
  {
   "cell_type": "code",
   "execution_count": 4,
   "metadata": {},
   "outputs": [],
   "source": [
    "db = pd.DataFrame(result)"
   ]
  },
  {
   "cell_type": "code",
   "execution_count": 15,
   "metadata": {},
   "outputs": [
    {
     "data": {
      "text/html": [
       "<div>\n",
       "<style scoped>\n",
       "    .dataframe tbody tr th:only-of-type {\n",
       "        vertical-align: middle;\n",
       "    }\n",
       "\n",
       "    .dataframe tbody tr th {\n",
       "        vertical-align: top;\n",
       "    }\n",
       "\n",
       "    .dataframe thead th {\n",
       "        text-align: right;\n",
       "    }\n",
       "</style>\n",
       "<table border=\"1\" class=\"dataframe\">\n",
       "  <thead>\n",
       "    <tr style=\"text-align: right;\">\n",
       "      <th></th>\n",
       "      <th>ID</th>\n",
       "      <th>DomainID</th>\n",
       "      <th>MainCategory</th>\n",
       "      <th>SubCategory</th>\n",
       "      <th>WritedAt</th>\n",
       "      <th>Title</th>\n",
       "      <th>Content</th>\n",
       "      <th>URL</th>\n",
       "      <th>PhotoURL</th>\n",
       "      <th>Writer</th>\n",
       "      <th>Stickers</th>\n",
       "      <th>Press</th>\n",
       "    </tr>\n",
       "  </thead>\n",
       "  <tbody>\n",
       "    <tr>\n",
       "      <th>0</th>\n",
       "      <td>1</td>\n",
       "      <td>1</td>\n",
       "      <td>스포츠</td>\n",
       "      <td>해외야구</td>\n",
       "      <td>2022-11-30 02:52:00</td>\n",
       "      <td>휴스턴 레전드의 일침 “야구는 컴퓨터가 아니라 사람이 하는 것”</td>\n",
       "      <td>휴스턴 애스트로스 레전드이자 미국 야구 명예의 전당 멤버인 제프 배그웰54은 분명한...</td>\n",
       "      <td>https://sports.news.naver.com/news?oid=410&amp;aid...</td>\n",
       "      <td>['https://imgnews.pstatic.net/image/410/2022/1...</td>\n",
       "      <td>김재호</td>\n",
       "      <td>{'좋아요': 5, '슬퍼요': 1, '화나요': 15, '팬이에요': '0', '...</td>\n",
       "      <td>MK스포츠</td>\n",
       "    </tr>\n",
       "    <tr>\n",
       "      <th>1</th>\n",
       "      <td>2</td>\n",
       "      <td>1</td>\n",
       "      <td>스포츠</td>\n",
       "      <td>골프</td>\n",
       "      <td>2022-11-30 00:05:00</td>\n",
       "      <td>[GD레슨] 진정한 실력자가 되기 위해 필요한 세 가지 기술 ②</td>\n",
       "      <td>내가 어렸을 때 우리 집 뒷마당의 나무에는 낡은 타이어가 고정되어 있어서 가끔씩 야...</td>\n",
       "      <td>https://sports.news.naver.com/news?oid=435&amp;aid...</td>\n",
       "      <td>['https://imgnews.pstatic.net/image/435/2022/1...</td>\n",
       "      <td>김성준</td>\n",
       "      <td>{'좋아요': 1, '슬퍼요': '0', '화나요': '0', '팬이에요': '0'...</td>\n",
       "      <td>골프다이제스트</td>\n",
       "    </tr>\n",
       "    <tr>\n",
       "      <th>2</th>\n",
       "      <td>3</td>\n",
       "      <td>1</td>\n",
       "      <td>스포츠</td>\n",
       "      <td>배구</td>\n",
       "      <td>2022-11-30 00:00:00</td>\n",
       "      <td>‘1무 1패’ 한국과 동병상련…카메룬 특급도 월드컵 시청 “지지 않아서 좋았다” [...</td>\n",
       "      <td>GS칼텍스 모마  KOVO 제공인천  기자 GS칼텍스 외국인선수 모마GS칼텍스도 지...</td>\n",
       "      <td>https://sports.news.naver.com/news?oid=109&amp;aid...</td>\n",
       "      <td>['https://imgnews.pstatic.net/image/109/2022/1...</td>\n",
       "      <td>이후광</td>\n",
       "      <td>{'좋아요': 12, '슬퍼요': 1, '화나요': 2, '팬이에요': 2, '후속...</td>\n",
       "      <td>OSEN</td>\n",
       "    </tr>\n",
       "    <tr>\n",
       "      <th>3</th>\n",
       "      <td>4</td>\n",
       "      <td>1</td>\n",
       "      <td>스포츠</td>\n",
       "      <td>일반</td>\n",
       "      <td>2022-11-30 00:02:00</td>\n",
       "      <td>[삼성화재배 AI와 함께하는 바둑 해설] 흑의 의도를 비틀다</td>\n",
       "      <td>〈본선 32강전〉 ○ 박정환 9단 ● 커제 9단 장면 2 장면 ②바둑이 자꾸만 추상...</td>\n",
       "      <td>https://sports.news.naver.com/news?oid=025&amp;aid...</td>\n",
       "      <td>['https://imgnews.pstatic.net/image/025/2022/1...</td>\n",
       "      <td></td>\n",
       "      <td>{'좋아요': '0', '슬퍼요': '0', '화나요': '0', '팬이에요': '...</td>\n",
       "      <td>중앙일보</td>\n",
       "    </tr>\n",
       "    <tr>\n",
       "      <th>4</th>\n",
       "      <td>5</td>\n",
       "      <td>1</td>\n",
       "      <td>스포츠</td>\n",
       "      <td>해외야구</td>\n",
       "      <td>2022-11-29 03:00:00</td>\n",
       "      <td>어제의 적이 동지? 벌랜더, 다저스 만난다</td>\n",
       "      <td>어제의 적이 내일의 동료가 될 수 있을까?뉴욕포스트 메이저리그 전문 칼럼니스트 존 ...</td>\n",
       "      <td>https://sports.news.naver.com/news?oid=410&amp;aid...</td>\n",
       "      <td>['https://imgnews.pstatic.net/image/410/2022/1...</td>\n",
       "      <td>김재호</td>\n",
       "      <td>{'좋아요': 14, '슬퍼요': '0', '화나요': 6, '팬이에요': 12, ...</td>\n",
       "      <td>MK스포츠</td>\n",
       "    </tr>\n",
       "  </tbody>\n",
       "</table>\n",
       "</div>"
      ],
      "text/plain": [
       "   ID  DomainID MainCategory SubCategory             WritedAt  \\\n",
       "0   1         1          스포츠        해외야구  2022-11-30 02:52:00   \n",
       "1   2         1          스포츠          골프  2022-11-30 00:05:00   \n",
       "2   3         1          스포츠          배구  2022-11-30 00:00:00   \n",
       "3   4         1          스포츠          일반  2022-11-30 00:02:00   \n",
       "4   5         1          스포츠        해외야구  2022-11-29 03:00:00   \n",
       "\n",
       "                                               Title  \\\n",
       "0                휴스턴 레전드의 일침 “야구는 컴퓨터가 아니라 사람이 하는 것”   \n",
       "1                [GD레슨] 진정한 실력자가 되기 위해 필요한 세 가지 기술 ②   \n",
       "2  ‘1무 1패’ 한국과 동병상련…카메룬 특급도 월드컵 시청 “지지 않아서 좋았다” [...   \n",
       "3                  [삼성화재배 AI와 함께하는 바둑 해설] 흑의 의도를 비틀다   \n",
       "4                            어제의 적이 동지? 벌랜더, 다저스 만난다   \n",
       "\n",
       "                                             Content  \\\n",
       "0  휴스턴 애스트로스 레전드이자 미국 야구 명예의 전당 멤버인 제프 배그웰54은 분명한...   \n",
       "1  내가 어렸을 때 우리 집 뒷마당의 나무에는 낡은 타이어가 고정되어 있어서 가끔씩 야...   \n",
       "2  GS칼텍스 모마  KOVO 제공인천  기자 GS칼텍스 외국인선수 모마GS칼텍스도 지...   \n",
       "3  〈본선 32강전〉 ○ 박정환 9단 ● 커제 9단 장면 2 장면 ②바둑이 자꾸만 추상...   \n",
       "4  어제의 적이 내일의 동료가 될 수 있을까?뉴욕포스트 메이저리그 전문 칼럼니스트 존 ...   \n",
       "\n",
       "                                                 URL  \\\n",
       "0  https://sports.news.naver.com/news?oid=410&aid...   \n",
       "1  https://sports.news.naver.com/news?oid=435&aid...   \n",
       "2  https://sports.news.naver.com/news?oid=109&aid...   \n",
       "3  https://sports.news.naver.com/news?oid=025&aid...   \n",
       "4  https://sports.news.naver.com/news?oid=410&aid...   \n",
       "\n",
       "                                            PhotoURL Writer  \\\n",
       "0  ['https://imgnews.pstatic.net/image/410/2022/1...    김재호   \n",
       "1  ['https://imgnews.pstatic.net/image/435/2022/1...    김성준   \n",
       "2  ['https://imgnews.pstatic.net/image/109/2022/1...    이후광   \n",
       "3  ['https://imgnews.pstatic.net/image/025/2022/1...          \n",
       "4  ['https://imgnews.pstatic.net/image/410/2022/1...    김재호   \n",
       "\n",
       "                                            Stickers    Press  \n",
       "0  {'좋아요': 5, '슬퍼요': 1, '화나요': 15, '팬이에요': '0', '...   MK스포츠   \n",
       "1  {'좋아요': 1, '슬퍼요': '0', '화나요': '0', '팬이에요': '0'...  골프다이제스트  \n",
       "2  {'좋아요': 12, '슬퍼요': 1, '화나요': 2, '팬이에요': 2, '후속...     OSEN  \n",
       "3  {'좋아요': '0', '슬퍼요': '0', '화나요': '0', '팬이에요': '...     중앙일보  \n",
       "4  {'좋아요': 14, '슬퍼요': '0', '화나요': 6, '팬이에요': 12, ...   MK스포츠   "
      ]
     },
     "execution_count": 15,
     "metadata": {},
     "output_type": "execute_result"
    }
   ],
   "source": [
    "#데이터 가져오기\n",
    "db.head()"
   ]
  },
  {
   "cell_type": "code",
   "execution_count": 5,
   "metadata": {},
   "outputs": [
    {
     "data": {
      "text/plain": [
       "(682288, 12)"
      ]
     },
     "execution_count": 5,
     "metadata": {},
     "output_type": "execute_result"
    }
   ],
   "source": [
    "db.shape"
   ]
  },
  {
   "cell_type": "code",
   "execution_count": 6,
   "metadata": {},
   "outputs": [],
   "source": [
    "data = db"
   ]
  },
  {
   "cell_type": "code",
   "execution_count": 8,
   "metadata": {},
   "outputs": [],
   "source": [
    "#doc2vec model 학습하고 저장하는 함수\n",
    "def make_doc2vec_models(tagged_data, tok, vector_size=128,window = 3, epochs=10, min_count=0,workers=4):\n",
    "    model = Doc2Vec(tagged_data, vector_size=vector_size, window=window, epochs=epochs,min_count=min_count,workers=workers)\n",
    "    model.save(f'./{tok}_news_model.doc2vec')"
   ]
  },
  {
   "cell_type": "code",
   "execution_count": null,
   "metadata": {},
   "outputs": [],
   "source": [
    "# #데이터 전처리\n",
    "# def get_preprocessing_data(data):\n",
    "#     data.drop(['date','company','url'],axis = 1,inplace=True)\n",
    "\n",
    "#     category_mapping = {\n",
    "#         '경제' : 0,\n",
    "#         '정치' : 1,\n",
    "#         'IT과학' : 2\n",
    "#     }\n",
    "\n",
    "#     data['category'] = data['category'].map(category_mapping)\n",
    "#     data['title_content'] = data['title'] + \" \" + data['content']\n",
    "#     data.drop(['title','content'],axis = 1, inplace =True)\n",
    "#     return data"
   ]
  },
  {
   "cell_type": "code",
   "execution_count": 9,
   "metadata": {},
   "outputs": [],
   "source": [
    "#doc2vec 에 필요한 데이터 만들어줌\n",
    "\n",
    "def make_doc2vec_data(data, column, t_document=False):\n",
    "    data_doc = []\n",
    "    for tag, doc in zip(data.index, data[column]):\n",
    "        doc = doc.split(\" \")\n",
    "        data_doc.append(([tag], doc))\n",
    "    if t_document:\n",
    "        data = [TaggedDocument(words=text, tags=tag) for tag, text in data_doc]\n",
    "        return data\n",
    "    else:\n",
    "        return data_doc"
   ]
  },
  {
   "cell_type": "code",
   "execution_count": 10,
   "metadata": {},
   "outputs": [],
   "source": [
    "#cosine similarity 구하기 , top 5 추천\n",
    "\n",
    "def get_recommend_contents(user,data_doc,model):\n",
    "    scores=[]\n",
    "\n",
    "    for tags, text in data_doc:\n",
    "        trained_doc_vec = model.dv[tags[0]]\n",
    "        scores.append(cosine_similarity(user.reshape(-1,128),trained_doc_vec.reshape(-1,128)))\n",
    "\n",
    "    scores = np.array(scores).reshape(-1)\n",
    "    scores = np.argsort(-scores)[:5] #cosine similarity 가 높은 인덱스를 추출해서 가져온다.\n",
    "\n",
    "    return data.loc[scores, :]"
   ]
  },
  {
   "cell_type": "code",
   "execution_count": null,
   "metadata": {},
   "outputs": [],
   "source": []
  },
  {
   "cell_type": "code",
   "execution_count": 11,
   "metadata": {},
   "outputs": [],
   "source": [
    "#content vector 기반의 user history 평균해서 user embedding 만들어 주는 함수\n",
    "\n",
    "def make_user_embedding(index_list,data_doc,model):\n",
    "    user = []\n",
    "    user_embedding = []\n",
    "    for i in index_list:\n",
    "        user.append(data_doc[i][0][0])\n",
    "    for i in user:\n",
    "        user_embedding.append(model.dv[i])\n",
    "    user_embedding = np.array(user_embedding)\n",
    "    user = np.mean(user_embedding,axis = 0)\n",
    "    return user"
   ]
  },
  {
   "cell_type": "code",
   "execution_count": 12,
   "metadata": {},
   "outputs": [],
   "source": [
    "# 사용자의 히스토리 내역 보여주는 함수\n",
    "\n",
    "def view_user_history(data):\n",
    "    print(data[['MainCategory','Content']])"
   ]
  },
  {
   "cell_type": "code",
   "execution_count": 13,
   "metadata": {},
   "outputs": [],
   "source": [
    "data_doc_title_content_tag = make_doc2vec_data(data, 'Content',t_document=True)\n",
    "data_doc_title_content = make_doc2vec_data(data, 'Content')\n",
    "data_doc_title_content"
   ]
  },
  {
   "cell_type": "markdown",
   "metadata": {},
   "source": [
    "## make Doc2Vec Models"
   ]
  },
  {
   "cell_type": "code",
   "execution_count": 31,
   "metadata": {},
   "outputs": [],
   "source": [
    "#model 학습\n",
    "make_doc2vec_models(data_doc_title_content_tag,tok = False)\n"
   ]
  },
  {
   "cell_type": "code",
   "execution_count": 34,
   "metadata": {},
   "outputs": [],
   "source": [
    "user_category_1 = data.loc[random.sample(data.loc[data.MainCategory == '스포츠', :].index.values.tolist(),5),:]\n",
    "user_category_2 = data.loc[random.sample(data.loc[data.MainCategory == '연예', :].index.values.tolist(),5),:]\n",
    "user_category_3 = data.loc[random.sample(data.loc[data.MainCategory == '사회', :].index.values.tolist(),5),:]\n",
    "user_category_4 = data.loc[random.sample(data.loc[data.MainCategory == '생활/문화', :].index.values.tolist(),5),:]\n",
    "user_category_5 = data.loc[random.sample(data.loc[data.MainCategory == '경제', :].index.values.tolist(),5),:]\n",
    "user_category_6 = data.loc[random.sample(data.loc[data.MainCategory == '정치', :].index.values.tolist(),5),:]\n",
    "user_category_7 = data.loc[random.sample(data.loc[data.MainCategory == 'IT', :].index.values.tolist(),5),:]\n",
    "user_category_8 = data.loc[random.sample(data.loc[data.MainCategory == '국제', :].index.values.tolist(),5),:]\n"
   ]
  },
  {
   "cell_type": "code",
   "execution_count": 44,
   "metadata": {},
   "outputs": [
    {
     "name": "stdout",
     "output_type": "stream",
     "text": [
      "       MainCategory                                            Content\n",
      "658967           국제  Iowa Gov. Kim Reynolds speaks to supporters du...\n",
      "661282           국제  Republican Lee Murphy seen in this 2022 campai...\n",
      "630167           국제  Englands Jack Grealish second left celebrates ...\n",
      "624698           국제  Canadas Tajon Buchanan grimaces on the ground ...\n",
      "615548           국제  Pope Francis meets with members of the Italian...\n"
     ]
    }
   ],
   "source": [
    "view_user_history(user_category_8)"
   ]
  },
  {
   "cell_type": "markdown",
   "metadata": {},
   "source": [
    "## load doc2vec models"
   ]
  },
  {
   "cell_type": "code",
   "execution_count": 45,
   "metadata": {},
   "outputs": [],
   "source": [
    "model_title_content = Doc2Vec.load('./False_news_model.doc2vec')"
   ]
  },
  {
   "cell_type": "code",
   "execution_count": 57,
   "metadata": {},
   "outputs": [],
   "source": [
    "# 사용자 히스토리를 가지고 User Embedding\n",
    "\n",
    "user_1 = make_user_embedding(user_category_1.index.values.tolist(),data_doc_title_content,model_title_content)\n",
    "user_2 = make_user_embedding(user_category_2.index.values.tolist(),data_doc_title_content,model_title_content)\n",
    "user_3 = make_user_embedding(user_category_3.index.values.tolist(),data_doc_title_content,model_title_content)\n",
    "user_4 = make_user_embedding(user_category_4.index.values.tolist(),data_doc_title_content,model_title_content)\n",
    "user_5 = make_user_embedding(user_category_5.index.values.tolist(),data_doc_title_content,model_title_content)\n",
    "user_6 = make_user_embedding(user_category_6.index.values.tolist(),data_doc_title_content,model_title_content)\n",
    "user_7 = make_user_embedding(user_category_7.index.values.tolist(),data_doc_title_content,model_title_content)\n",
    "user_8 = make_user_embedding(user_category_8.index.values.tolist(),data_doc_title_content,model_title_content)"
   ]
  },
  {
   "cell_type": "code",
   "execution_count": 58,
   "metadata": {},
   "outputs": [
    {
     "data": {
      "text/plain": [
       "array([-5.00858665e-01, -1.64297730e-01, -2.64968634e-01,  1.99933231e-01,\n",
       "        2.40015075e-01, -2.62998603e-02,  1.51523173e-01,  2.36087735e-03,\n",
       "       -2.84220695e-01,  3.14649522e-01, -3.50444131e-02, -2.50655234e-01,\n",
       "       -9.60915685e-02,  1.67870909e-01, -2.29139045e-01, -1.11828241e-02,\n",
       "        9.11272168e-02,  3.32633667e-02, -4.63434346e-02, -1.13441750e-01,\n",
       "        1.62217170e-01, -1.32087529e-01,  2.40574926e-02,  3.08847010e-01,\n",
       "       -2.17497587e-01,  1.92885295e-01,  2.50423223e-01,  2.00312182e-01,\n",
       "        2.49833539e-01, -6.63963985e-03, -2.20583864e-02,  5.58530279e-02,\n",
       "        4.54498202e-01,  6.60716668e-02,  1.40586391e-01,  3.91958237e-01,\n",
       "        4.65672314e-01,  1.26839280e-01,  3.27177137e-01,  2.66723156e-01,\n",
       "       -1.02511667e-01,  1.23063065e-01, -3.53927195e-01, -2.28673607e-01,\n",
       "       -2.80501693e-01,  6.89029768e-02,  4.26459700e-01,  1.14274465e-01,\n",
       "        3.52135330e-01, -1.62437826e-01,  1.37467727e-01,  2.34734371e-01,\n",
       "        9.04941633e-02,  2.75997698e-01, -2.98443764e-01, -6.44543320e-02,\n",
       "        1.14812575e-01, -2.29799701e-03,  7.18849674e-02, -5.93606293e-01,\n",
       "        8.34162831e-02,  4.04528290e-01,  4.66351658e-01,  2.97726393e-02,\n",
       "        5.74588895e-01, -1.10664904e-01,  1.37730390e-01, -5.48938692e-01,\n",
       "       -1.97854295e-01, -4.27033529e-02, -3.31445515e-01, -3.96716386e-01,\n",
       "        3.16703796e-01,  1.27099352e-02,  2.76858598e-01,  3.02949071e-01,\n",
       "        3.29845220e-01,  7.14030936e-02, -3.60828638e-02,  1.42116308e-01,\n",
       "        3.92477512e-01, -2.05437139e-01, -5.80926724e-02,  1.36876613e-01,\n",
       "       -1.27401620e-01,  1.24095678e-01, -3.69930953e-01,  6.22786507e-02,\n",
       "       -2.37752467e-01, -3.56584579e-01,  1.93981320e-01,  2.72485856e-02,\n",
       "       -8.22431594e-02, -4.78025019e-01, -3.13009828e-01,  4.77687061e-01,\n",
       "        3.94167185e-01,  9.79469180e-01,  1.08334623e-01, -3.79158795e-01,\n",
       "       -3.03094101e-04, -6.15710542e-02, -4.90246993e-03,  6.67438135e-02,\n",
       "       -7.01538771e-02,  5.32459915e-01, -1.74234599e-01, -1.59892946e-01,\n",
       "       -9.62667391e-02, -2.59447068e-01, -5.91539033e-02,  4.89964783e-02,\n",
       "       -1.02152742e-01, -6.96284294e-01, -4.80478048e-01, -4.34128568e-02,\n",
       "       -2.93814600e-01, -6.12185657e-01, -3.51618081e-01, -2.38192394e-01,\n",
       "       -1.23781560e-03,  1.45934641e-01, -3.60555887e-01,  1.09512523e-01,\n",
       "        4.71746266e-01, -4.06289905e-01, -1.40686840e-01, -1.44114882e-01],\n",
       "      dtype=float32)"
      ]
     },
     "execution_count": 58,
     "metadata": {},
     "output_type": "execute_result"
    }
   ],
   "source": [
    "user_1"
   ]
  },
  {
   "cell_type": "code",
   "execution_count": 61,
   "metadata": {},
   "outputs": [
    {
     "ename": "KeyboardInterrupt",
     "evalue": "",
     "output_type": "error",
     "traceback": [
      "\u001b[1;31m---------------------------------------------------------------------------\u001b[0m",
      "\u001b[1;31mKeyboardInterrupt\u001b[0m                         Traceback (most recent call last)",
      "Cell \u001b[1;32mIn [61], line 2\u001b[0m\n\u001b[0;32m      1\u001b[0m \u001b[39m# 추천\u001b[39;00m\n\u001b[1;32m----> 2\u001b[0m result \u001b[39m=\u001b[39m get_recommend_contents(user_1,data_doc_title_content,model_title_content)\n\u001b[0;32m      3\u001b[0m pd\u001b[39m.\u001b[39mDataFrame(result\u001b[39m.\u001b[39mloc[:, [\u001b[39m'\u001b[39m\u001b[39mMainCategory\u001b[39m\u001b[39m'\u001b[39m, \u001b[39m'\u001b[39m\u001b[39mContent\u001b[39m\u001b[39m'\u001b[39m]])\n",
      "Cell \u001b[1;32mIn [60], line 8\u001b[0m, in \u001b[0;36mget_recommend_contents\u001b[1;34m(user, data_doc, model)\u001b[0m\n\u001b[0;32m      6\u001b[0m \u001b[39mfor\u001b[39;00m tags, text \u001b[39min\u001b[39;00m data_doc:\n\u001b[0;32m      7\u001b[0m     trained_doc_vec \u001b[39m=\u001b[39m model\u001b[39m.\u001b[39mdv[tags[\u001b[39m0\u001b[39m]]\n\u001b[1;32m----> 8\u001b[0m     scores\u001b[39m.\u001b[39mappend(cosine_similarity(user\u001b[39m.\u001b[39;49mreshape(\u001b[39m-\u001b[39;49m\u001b[39m1\u001b[39;49m,\u001b[39m128\u001b[39;49m),trained_doc_vec\u001b[39m.\u001b[39;49mreshape(\u001b[39m-\u001b[39;49m\u001b[39m1\u001b[39;49m,\u001b[39m128\u001b[39;49m)))\n\u001b[0;32m     10\u001b[0m scores \u001b[39m=\u001b[39m np\u001b[39m.\u001b[39marray(scores)\u001b[39m.\u001b[39mreshape(\u001b[39m-\u001b[39m\u001b[39m1\u001b[39m)\n\u001b[0;32m     11\u001b[0m scores \u001b[39m=\u001b[39m np\u001b[39m.\u001b[39margsort(\u001b[39m-\u001b[39mscores)[:\u001b[39m5\u001b[39m] \u001b[39m#cosine similarity 가 높은 인덱스를 추출해서 가져온다.\u001b[39;00m\n",
      "File \u001b[1;32mc:\\Users\\jisu\\Anaconda3\\envs\\study\\lib\\site-packages\\sklearn\\metrics\\pairwise.py:1377\u001b[0m, in \u001b[0;36mcosine_similarity\u001b[1;34m(X, Y, dense_output)\u001b[0m\n\u001b[0;32m   1342\u001b[0m \u001b[39m\"\"\"Compute cosine similarity between samples in X and Y.\u001b[39;00m\n\u001b[0;32m   1343\u001b[0m \n\u001b[0;32m   1344\u001b[0m \u001b[39mCosine similarity, or the cosine kernel, computes similarity as the\u001b[39;00m\n\u001b[1;32m   (...)\u001b[0m\n\u001b[0;32m   1373\u001b[0m \u001b[39m    Returns the cosine similarity between samples in X and Y.\u001b[39;00m\n\u001b[0;32m   1374\u001b[0m \u001b[39m\"\"\"\u001b[39;00m\n\u001b[0;32m   1375\u001b[0m \u001b[39m# to avoid recursive import\u001b[39;00m\n\u001b[1;32m-> 1377\u001b[0m X, Y \u001b[39m=\u001b[39m check_pairwise_arrays(X, Y)\n\u001b[0;32m   1379\u001b[0m X_normalized \u001b[39m=\u001b[39m normalize(X, copy\u001b[39m=\u001b[39m\u001b[39mTrue\u001b[39;00m)\n\u001b[0;32m   1380\u001b[0m \u001b[39mif\u001b[39;00m X \u001b[39mis\u001b[39;00m Y:\n",
      "File \u001b[1;32mc:\\Users\\jisu\\Anaconda3\\envs\\study\\lib\\site-packages\\sklearn\\metrics\\pairwise.py:155\u001b[0m, in \u001b[0;36mcheck_pairwise_arrays\u001b[1;34m(X, Y, precomputed, dtype, accept_sparse, force_all_finite, copy)\u001b[0m\n\u001b[0;32m    146\u001b[0m     X \u001b[39m=\u001b[39m Y \u001b[39m=\u001b[39m check_array(\n\u001b[0;32m    147\u001b[0m         X,\n\u001b[0;32m    148\u001b[0m         accept_sparse\u001b[39m=\u001b[39maccept_sparse,\n\u001b[1;32m   (...)\u001b[0m\n\u001b[0;32m    152\u001b[0m         estimator\u001b[39m=\u001b[39mestimator,\n\u001b[0;32m    153\u001b[0m     )\n\u001b[0;32m    154\u001b[0m \u001b[39melse\u001b[39;00m:\n\u001b[1;32m--> 155\u001b[0m     X \u001b[39m=\u001b[39m check_array(\n\u001b[0;32m    156\u001b[0m         X,\n\u001b[0;32m    157\u001b[0m         accept_sparse\u001b[39m=\u001b[39;49maccept_sparse,\n\u001b[0;32m    158\u001b[0m         dtype\u001b[39m=\u001b[39;49mdtype,\n\u001b[0;32m    159\u001b[0m         copy\u001b[39m=\u001b[39;49mcopy,\n\u001b[0;32m    160\u001b[0m         force_all_finite\u001b[39m=\u001b[39;49mforce_all_finite,\n\u001b[0;32m    161\u001b[0m         estimator\u001b[39m=\u001b[39;49mestimator,\n\u001b[0;32m    162\u001b[0m     )\n\u001b[0;32m    163\u001b[0m     Y \u001b[39m=\u001b[39m check_array(\n\u001b[0;32m    164\u001b[0m         Y,\n\u001b[0;32m    165\u001b[0m         accept_sparse\u001b[39m=\u001b[39maccept_sparse,\n\u001b[1;32m   (...)\u001b[0m\n\u001b[0;32m    169\u001b[0m         estimator\u001b[39m=\u001b[39mestimator,\n\u001b[0;32m    170\u001b[0m     )\n\u001b[0;32m    172\u001b[0m \u001b[39mif\u001b[39;00m precomputed:\n",
      "File \u001b[1;32mc:\\Users\\jisu\\Anaconda3\\envs\\study\\lib\\site-packages\\sklearn\\utils\\validation.py:840\u001b[0m, in \u001b[0;36mcheck_array\u001b[1;34m(array, accept_sparse, accept_large_sparse, dtype, order, copy, force_all_finite, ensure_2d, allow_nd, ensure_min_samples, ensure_min_features, estimator, input_name)\u001b[0m\n\u001b[0;32m    838\u001b[0m \u001b[39mwith\u001b[39;00m warnings\u001b[39m.\u001b[39mcatch_warnings():\n\u001b[0;32m    839\u001b[0m     \u001b[39mtry\u001b[39;00m:\n\u001b[1;32m--> 840\u001b[0m         warnings\u001b[39m.\u001b[39;49msimplefilter(\u001b[39m\"\u001b[39;49m\u001b[39merror\u001b[39;49m\u001b[39m\"\u001b[39;49m, ComplexWarning)\n\u001b[0;32m    841\u001b[0m         \u001b[39mif\u001b[39;00m dtype \u001b[39mis\u001b[39;00m \u001b[39mnot\u001b[39;00m \u001b[39mNone\u001b[39;00m \u001b[39mand\u001b[39;00m np\u001b[39m.\u001b[39mdtype(dtype)\u001b[39m.\u001b[39mkind \u001b[39min\u001b[39;00m \u001b[39m\"\u001b[39m\u001b[39miu\u001b[39m\u001b[39m\"\u001b[39m:\n\u001b[0;32m    842\u001b[0m             \u001b[39m# Conversion float -> int should not contain NaN or\u001b[39;00m\n\u001b[0;32m    843\u001b[0m             \u001b[39m# inf (numpy#14412). We cannot use casting='safe' because\u001b[39;00m\n\u001b[0;32m    844\u001b[0m             \u001b[39m# then conversion float -> int would be disallowed.\u001b[39;00m\n\u001b[0;32m    845\u001b[0m             array \u001b[39m=\u001b[39m np\u001b[39m.\u001b[39masarray(array, order\u001b[39m=\u001b[39morder)\n",
      "File \u001b[1;32mc:\\Users\\jisu\\Anaconda3\\envs\\study\\lib\\warnings.py:179\u001b[0m, in \u001b[0;36msimplefilter\u001b[1;34m(action, category, lineno, append)\u001b[0m\n\u001b[0;32m    175\u001b[0m \u001b[39massert\u001b[39;00m action \u001b[39min\u001b[39;00m (\u001b[39m\"\u001b[39m\u001b[39merror\u001b[39m\u001b[39m\"\u001b[39m, \u001b[39m\"\u001b[39m\u001b[39mignore\u001b[39m\u001b[39m\"\u001b[39m, \u001b[39m\"\u001b[39m\u001b[39malways\u001b[39m\u001b[39m\"\u001b[39m, \u001b[39m\"\u001b[39m\u001b[39mdefault\u001b[39m\u001b[39m\"\u001b[39m, \u001b[39m\"\u001b[39m\u001b[39mmodule\u001b[39m\u001b[39m\"\u001b[39m,\n\u001b[0;32m    176\u001b[0m                   \u001b[39m\"\u001b[39m\u001b[39monce\u001b[39m\u001b[39m\"\u001b[39m), \u001b[39m\"\u001b[39m\u001b[39minvalid action: \u001b[39m\u001b[39m%r\u001b[39;00m\u001b[39m\"\u001b[39m \u001b[39m%\u001b[39m (action,)\n\u001b[0;32m    177\u001b[0m \u001b[39massert\u001b[39;00m \u001b[39misinstance\u001b[39m(lineno, \u001b[39mint\u001b[39m) \u001b[39mand\u001b[39;00m lineno \u001b[39m>\u001b[39m\u001b[39m=\u001b[39m \u001b[39m0\u001b[39m, \\\n\u001b[0;32m    178\u001b[0m        \u001b[39m\"\u001b[39m\u001b[39mlineno must be an int >= 0\u001b[39m\u001b[39m\"\u001b[39m\n\u001b[1;32m--> 179\u001b[0m _add_filter(action, \u001b[39mNone\u001b[39;49;00m, category, \u001b[39mNone\u001b[39;49;00m, lineno, append\u001b[39m=\u001b[39;49mappend)\n",
      "File \u001b[1;32mc:\\Users\\jisu\\Anaconda3\\envs\\study\\lib\\warnings.py:189\u001b[0m, in \u001b[0;36m_add_filter\u001b[1;34m(append, *item)\u001b[0m\n\u001b[0;32m    187\u001b[0m     \u001b[39mexcept\u001b[39;00m \u001b[39mValueError\u001b[39;00m:\n\u001b[0;32m    188\u001b[0m         \u001b[39mpass\u001b[39;00m\n\u001b[1;32m--> 189\u001b[0m     filters\u001b[39m.\u001b[39;49minsert(\u001b[39m0\u001b[39;49m, item)\n\u001b[0;32m    190\u001b[0m \u001b[39melse\u001b[39;00m:\n\u001b[0;32m    191\u001b[0m     \u001b[39mif\u001b[39;00m item \u001b[39mnot\u001b[39;00m \u001b[39min\u001b[39;00m filters:\n",
      "\u001b[1;31mKeyboardInterrupt\u001b[0m: "
     ]
    }
   ],
   "source": [
    "# 추천\n",
    "result = get_recommend_contents(user_1,data_doc_title_content,model_title_content)\n",
    "pd.DataFrame(result.loc[:, ['MainCategory', 'Content']])"
   ]
  },
  {
   "cell_type": "markdown",
   "metadata": {},
   "source": [
    "## 뉴스 기사 제목과 본문 합치기 / mecab 형태소 분석"
   ]
  },
  {
   "cell_type": "code",
   "execution_count": null,
   "metadata": {},
   "outputs": [],
   "source": []
  }
 ],
 "metadata": {
  "kernelspec": {
   "display_name": "Python 3.10.4 ('study')",
   "language": "python",
   "name": "python3"
  },
  "language_info": {
   "codemirror_mode": {
    "name": "ipython",
    "version": 3
   },
   "file_extension": ".py",
   "mimetype": "text/x-python",
   "name": "python",
   "nbconvert_exporter": "python",
   "pygments_lexer": "ipython3",
   "version": "3.10.4"
  },
  "orig_nbformat": 4,
  "vscode": {
   "interpreter": {
    "hash": "0366d95cfe3e294a9405a60bcbbb3d4cd1344975bbb420614b4c3178f22fa862"
   }
  }
 },
 "nbformat": 4,
 "nbformat_minor": 2
}
